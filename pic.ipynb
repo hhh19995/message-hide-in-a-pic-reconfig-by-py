{
 "cells": [
  {
   "cell_type": "code",
   "execution_count": 9,
   "metadata": {},
   "outputs": [],
   "source": [
    "from PIL import Image\n",
    "import numpy as np\n",
    "message=Image.open('timg1.jfif')\n",
    "message_R=np.array(message)[:,:,0]\n",
    "message_G=np.array(message)[:,:,1]\n",
    "message_B=np.array(message)[:,:,2]\n",
    "polarity=((message_R>=128)*(message_G>=128)*(message_B>=128))*255\n",
    "polarity_2=Image.fromarray(polarity)\n",
    "np.shape(polarity)\n",
    "#polarity_2.show()\n",
    "polarity_2=polarity_2.convert('RGB')\n",
    "polarity_2.save('firstresult.tif')\n",
    "#target img has already convert as black or white\n",
    "cover=Image.open('timg.jfif')\n",
    "cover_R=np.array(cover)[:,:,0]\n",
    "for i in range(849):\n",
    "    for j in range(1279):\n",
    "        if polarity[i,j]==255:\n",
    "            cover_R[i,j]=cover_R[i,j]-cover_R[i,j]%2\n",
    "        else:\n",
    "            cover_R[i,j]=cover_R[i,j]-cover_R[i,j]%2+1\n",
    "cover_2=np.zeros((850,1280,3))\n",
    "cover_2[:,:,0]=np.copy(cover_R)\n",
    "cover_2[:,:,1]=np.copy(np.array(cover)[:,:,1])\n",
    "cover_2[:,:,2]=np.copy(np.array(cover)[:,:,2])\n",
    "cover_3=Image.fromarray(cover_2.astype('uint8'))\n",
    "#cover.show()\n",
    "cover_3.save('hided.tif')#BUG:I just save the wrong variable\n",
    "#message have already hided in the cover img\n",
    "recover=Image.open('hided.tif')\n",
    "recover_R=np.array(recover)[:,:,0]\n",
    "tmp=np.zeros((850,1280))\n",
    "for i in range(849):\n",
    "    for j in range(1279):\n",
    "        if recover_R[i,j]%2==0:\n",
    "            tmp[i,j]=255\n",
    "        else:\n",
    "            tmp[i,j]=0\n",
    "result=Image.fromarray(tmp)\n",
    "result=result.convert('RGB')\n",
    "result.show()\n",
    "result.save('finalresult.tif')\n"
   ]
  },
  {
   "cell_type": "code",
   "execution_count": null,
   "metadata": {},
   "outputs": [],
   "source": []
  },
  {
   "cell_type": "code",
   "execution_count": 3,
   "metadata": {},
   "outputs": [
    {
     "ename": "NameError",
     "evalue": "name 'message_R' is not defined",
     "output_type": "error",
     "traceback": [
      "\u001b[1;31m---------------------------------------------------------------------------\u001b[0m",
      "\u001b[1;31mNameError\u001b[0m                                 Traceback (most recent call last)",
      "\u001b[1;32m<ipython-input-3-e66c2d833d36>\u001b[0m in \u001b[0;36m<module>\u001b[1;34m\u001b[0m\n\u001b[1;32m----> 1\u001b[1;33m \u001b[0mnp\u001b[0m\u001b[1;33m.\u001b[0m\u001b[0mshape\u001b[0m\u001b[1;33m(\u001b[0m\u001b[0mmessage_R\u001b[0m\u001b[1;33m)\u001b[0m\u001b[1;33m\u001b[0m\u001b[1;33m\u001b[0m\u001b[0m\n\u001b[0m",
      "\u001b[1;31mNameError\u001b[0m: name 'message_R' is not defined"
     ]
    }
   ],
   "source": [
    "np.shape(message_R)\n"
   ]
  },
  {
   "cell_type": "code",
   "execution_count": 8,
   "metadata": {},
   "outputs": [],
   "source": [
    "message_R=np.array(message)[:,:,0]"
   ]
  },
  {
   "cell_type": "code",
   "execution_count": 10,
   "metadata": {},
   "outputs": [
    {
     "data": {
      "text/plain": [
       "(850, 1280)"
      ]
     },
     "execution_count": 10,
     "metadata": {},
     "output_type": "execute_result"
    }
   ],
   "source": [
    "np.shape(message_R)"
   ]
  },
  {
   "cell_type": "code",
   "execution_count": 13,
   "metadata": {},
   "outputs": [],
   "source": [
    "polarity=(message_R>=128)*255\n",
    "polarity=Image.fromarray(polarity)\n",
    "polarity.show()"
   ]
  }
 ],
 "metadata": {
  "kernelspec": {
   "display_name": "Python 3",
   "language": "python",
   "name": "python3"
  },
  "language_info": {
   "codemirror_mode": {
    "name": "ipython",
    "version": 3
   },
   "file_extension": ".py",
   "mimetype": "text/x-python",
   "name": "python",
   "nbconvert_exporter": "python",
   "pygments_lexer": "ipython3",
   "version": "3.7.3"
  }
 },
 "nbformat": 4,
 "nbformat_minor": 2
}
